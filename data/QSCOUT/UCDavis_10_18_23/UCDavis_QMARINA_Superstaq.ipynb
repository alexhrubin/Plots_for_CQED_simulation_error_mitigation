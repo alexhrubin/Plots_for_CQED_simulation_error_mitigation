{
 "cells": [
  {
   "cell_type": "code",
   "execution_count": 4,
   "id": "dbda002a",
   "metadata": {},
   "outputs": [],
   "source": [
    "import os\n",
    "import numpy as np\n",
    "import qiskit as qiskit\n",
    "import qiskit_superstaq as qss\n",
    "from qiskit import *\n",
    "#from jaqalpaq import emulator\n",
    "from jaqalpaq.parser import parse_jaqal_string\n",
    "from jaqalpaq.run import run_jaqal_file, run_jaqal_string, run_jaqal_batch, run_jaqal_circuit, frontend\n",
    "import matplotlib\n",
    "from matplotlib import pyplot\n",
    "import json\n",
    "\n",
    "#provider = qss.SuperstaqProvider(api_key=\"api key here\")\n",
    "os.environ[\"REQUESTS_CA_BUNDLE\"] = \"/etc/ssl/certs/ca-certificates.crt\"\n",
    "token = \"75d831b0b53761095c124375e9f12cb2297ca5ac0556e1e895a2800b8a617dc2\"\n",
    "os.environ[\"SUPERSTAQ_API_KEY\"] = token\n",
    "provider = qss.superstaq_provider.SuperstaqProvider(token)"
   ]
  },
  {
   "cell_type": "code",
   "execution_count": 5,
   "id": "57831d0b",
   "metadata": {},
   "outputs": [],
   "source": [
    "# getting QMARINA circuit list\n",
    "\n",
    "# Number of emitters\n",
    "N = 3\n",
    "\n",
    "# Cavity linewidth and time\n",
    "kappa = 5      # cavity linewidth\n",
    "g = 2         # in 2pi*GHz\n",
    "tlist = np.linspace(0,3,51)  #in ns\n",
    "\n",
    "# Initial emitter excitation\n",
    "c0 = [1]\n",
    "for i in range(N-1):\n",
    "    c0.append(0)\n",
    "\n",
    "shots = 10000\n",
    "population1 = []\n",
    "population2 = []\n",
    "all_qc = []\n",
    "\n",
    "for t in tlist:\n",
    "\n",
    "    # Quantum register\n",
    "    qr = QuantumRegister(N+1, name='q')\n",
    "    cr = ClassicalRegister(N+1, name='c')\n",
    "\n",
    "    # Quantum circuit\n",
    "    qc = QuantumCircuit(qr,cr)\n",
    "\n",
    "    environment = N # index of the last qubit\n",
    "    \n",
    "    # Laplace transform terms\n",
    "    c = []\n",
    "    P = kappa*kappa-16*g*g*N\n",
    "    if P>0:\n",
    "        D = np.sqrt(P)\n",
    "        \n",
    "    else:\n",
    "        D = np.sqrt(-P)\n",
    "        \n",
    "    sum_c = 0\n",
    "    for i in range(N):\n",
    "        sum_c = sum_c + c0[i]\n",
    "        \n",
    "    c = []\n",
    "    for i in range(N):\n",
    "        c.append((N*c0[i] - sum_c)/N + sum_c*np.exp(-kappa*t/4)*(kappa/D *np.sin(D*t/4)+ np.cos(D*t/4))/N)\n",
    "            \n",
    "    # Quantum circuit coefficients\n",
    "    theta = []\n",
    "    coef = 1\n",
    "    for i in range(N):\n",
    "        if i == 0:\n",
    "            theta.append(np.arccos(c[0]))\n",
    "            coef = np.sin(theta[0])\n",
    "        else:\n",
    "            if c[i] == 0:\n",
    "                theta.append(0)\n",
    "            else:\n",
    "                theta.append(np.arcsin(c[i]/coef))\n",
    "            coef = coef * np.cos(theta[i])\n",
    "    \n",
    "    # Construct quantum circuit\n",
    "    qc.x(0)\n",
    "    qc.cu(2 * theta[0], 0, 0, 0, 0, environment)\n",
    "    qc.cx(environment, 0)\n",
    "    \n",
    "    for i in range(N-1):\n",
    "        qc.cu(2 * theta[i+1], 0, 0, 0, environment, i+1)\n",
    "        qc.cx(i+1, environment)\n",
    "    \n",
    "    #qc.barrier()\n",
    "  \n",
    "    for i in range(N+1):\n",
    "        qc.measure(i,i)\n",
    "\n",
    "    all_qc.append(qc)"
   ]
  },
  {
   "cell_type": "code",
   "execution_count": 6,
   "id": "0a06876c",
   "metadata": {},
   "outputs": [],
   "source": [
    "emulator = True\n",
    "\n",
    "num_qubits = 4\n",
    "num_states = num_qubits**2\n",
    "\n",
    "compiler_outputs = []\n",
    "probs = []\n",
    "results = [None]*len(all_qc) #[None]*2 if testing\n",
    "\n",
    "if emulator == True:\n",
    "    for i in range(len(all_qc)):\n",
    "        compiler_output = provider.qscout_compile(all_qc[i], base_entangling_gate='zz', mirror_swaps=False)\n",
    "        jaqal_output = compiler_output.jaqal_program\n",
    "        jaqal_output = jaqal_output.replace(\"from qscout.v1.std usepulses *\",\"from qscout.v1.std usepulses *\\nfrom qscout.v1.zz usepulses *\")\n",
    "        jaqal_result = run_jaqal_circuit(parse_jaqal_string(jaqal_output))\n",
    "        probs.append(jaqal_result.subcircuits[0].probability_by_str)\n",
    "    np.save('Simulation Probabilities', probs)\n",
    "\n",
    "else:    \n",
    "    for i in range(len(all_qc)): #range(2) if testing\n",
    "        compiler_output = provider.qscout_compile(all_qc[i], base_entangling_gate='zz', mirror_swaps=False)\n",
    "        jaqal_output = compiler_output.jaqal_program\n",
    "        jaqal_output = jaqal_output.replace(\"from qscout.v1.std usepulses *\",\"from Calibration_PulseDefinitions.SandboxPulses usepulses *\")\n",
    "        jaqal_output = jaqal_output.replace(\"-3.141592653589792\", \"-3.141592653589793\")\n",
    "        jaqal_result = run_jaqal_string(jaqal_output)\n",
    "        probs = jaqal_result.subcircuits[0].probability_by_str\n",
    "        results[i] = probs\n",
    "    values = []\n",
    "    for prob_dict in results:\n",
    "        values.append(prob_dict.values())\n",
    "    values_expand = []\n",
    "    for dict_values in values:\n",
    "        for array in dict_values:\n",
    "            for item in array:\n",
    "                values_expand.append(item)\n",
    "    i = 0\n",
    "    for prob_dict in results:\n",
    "        for n,key in enumerate(prob_dict):\n",
    "            prob_dict[key] = values_expand[i+n]\n",
    "        i += num_states\n",
    "    probs = results\n",
    "    np.save(\"Experiment Probabilities\", probs)\n",
    "    print(results)"
   ]
  },
  {
   "cell_type": "code",
   "execution_count": 8,
   "id": "b03377ca-a372-4952-b5a6-4ee1810acd07",
   "metadata": {},
   "outputs": [
    {
     "data": {
      "text/plain": [
       "<matplotlib.legend.Legend at 0x7f896fe3fd00>"
      ]
     },
     "execution_count": 8,
     "metadata": {},
     "output_type": "execute_result"
    },
    {
     "data": {
      "image/png": "[encoded data removed]",
      "text/plain": [
       "<Figure size 600x600 with 1 Axes>"
      ]
     },
     "metadata": {},
     "output_type": "display_data"
    }
   ],
   "source": [
    "population1 = []\n",
    "population2 = []\n",
    "population3 = []\n",
    "population4 = []\n",
    "\n",
    "for i in range(len(probs)):\n",
    "    if '1000' in probs[i]:\n",
    "        population1.append(probs[i].get('1000'))\n",
    "    if '0010' in probs[i]:\n",
    "        population2.append(probs[i].get('0010'))\n",
    "    if '0100' in probs[i]:\n",
    "        population3.append(probs[i].get('0100'))\n",
    "    if '0001' in probs[i]:\n",
    "        population4.append(probs[i].get('0001'))\n",
    "\n",
    "tlist = range(len(all_qc)) #range(2) if testing\n",
    "fig, ax = pyplot.subplots(1, 1, figsize=(6,6))\n",
    "ax.plot(tlist, population1, linewidth=2, label='|1000>')\n",
    "ax.plot(tlist, population2, linewidth=2, label='|0100>')\n",
    "ax.plot(tlist, population3, linewidth=2, label='|0010>')\n",
    "ax.plot(tlist, population4, linewidth=2, label='|0001>')\n",
    "ax.set_xlabel('Time Evolution')\n",
    "ax.set_ylabel('Probability')\n",
    "ax.legend()"
   ]
  },
  {
   "cell_type": "code",
   "execution_count": 156,
   "id": "8e76bd4f-4adf-421d-ae91-82a2dd03cbc6",
   "metadata": {},
   "outputs": [
    {
     "name": "stdout",
     "output_type": "stream",
     "text": [
      "from qscout.v1.std usepulses *\n",
      "\n",
      "register allqubits[4]\n",
      "\n",
      "prepare_all\n",
      "R allqubits[0] -1.5707963267948972 1.5707963267948966\n",
      "ZZ allqubits[0] allqubits[3] 1.5707963267948966\n",
      "<\n",
      "\tR allqubits[0] -1.3951473992034527e-15 1.5707963267948966\n",
      "\tR allqubits[3] -1.3951473992034527e-15 1.5707963267948966\n",
      ">\n",
      "ZZ allqubits[1] allqubits[3] 1.5707963267948966\n",
      "ZZ allqubits[2] allqubits[3] 1.5707963267948966\n",
      "R allqubits[3] -6.975736996017264e-16 1.5707963267948966\n",
      "measure_all\n",
      "\n"
     ]
    }
   ],
   "source": []
  },
  {
   "cell_type": "code",
   "execution_count": 157,
   "id": "60099a03-0927-4001-a174-850c9739ed92",
   "metadata": {},
   "outputs": [
    {
     "name": "stdout",
     "output_type": "stream",
     "text": [
      "{'0000': 0.5000000000000001, '1000': 0.5, '0100': 0.0, '1100': 0.0, '0010': 0.0, '1010': 0.0, '0110': 0.0, '1110': 0.0, '0001': 0.0, '1001': 0.0, '0101': 0.0, '1101': 0.0, '0011': 0.0, '1011': 0.0, '0111': 0.0, '1111': 0.0}\n"
     ]
    }
   ],
   "source": []
  },
  {
   "cell_type": "code",
   "execution_count": null,
   "id": "5a35b9aa-26f1-497f-922f-0b003400fd31",
   "metadata": {},
   "outputs": [],
   "source": []
  }
 ],
 "metadata": {
  "kernelspec": {
   "display_name": "Python 3 (ipykernel)",
   "language": "python",
   "name": "python3"
  },
  "language_info": {
   "codemirror_mode": {
    "name": "ipython",
    "version": 3
   },
   "file_extension": ".py",
   "mimetype": "text/x-python",
   "name": "python",
   "nbconvert_exporter": "python",
   "pygments_lexer": "ipython3",
   "version": "3.8.10"
  }
 },
 "nbformat": 4,
 "nbformat_minor": 5
}
