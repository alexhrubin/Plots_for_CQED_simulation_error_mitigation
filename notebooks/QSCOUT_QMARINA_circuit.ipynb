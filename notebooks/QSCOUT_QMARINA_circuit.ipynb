{
 "cells": [
  {
   "cell_type": "code",
   "execution_count": 1,
   "metadata": {},
   "outputs": [],
   "source": [
    "import matplotlib.pyplot as plt\n",
    "from qiskit import QuantumCircuit, QuantumRegister\n",
    "from qiskit.circuit import Parameter"
   ]
  },
  {
   "cell_type": "code",
   "execution_count": 45,
   "metadata": {},
   "outputs": [],
   "source": [
    "def CNOT(circuit, control, target):\n",
    "    angle = Parameter('angle569')\n",
    "    circuit.ry(0.5, control)\n",
    "    circuit.rxx(0.5, control, target)\n",
    "    circuit.sxdg(control)\n",
    "    circuit.sxdg(target)\n",
    "    circuit.ry(0.5, control)\n",
    "\n",
    "def CRy(circuit, control, target, angle):\n",
    "    \"\"\"Controlled Y rotation.\"\"\"\n",
    "    circuit.ry(-angle / 2, target) #ry\n",
    "    CNOT(circuit, control, target)\n",
    "    circuit.ry(-angle / 2, target)\n",
    "    CNOT(circuit, control, target)\n",
    "    circuit.ry(angle, target)\n",
    "\n",
    "\n",
    "def qmarina(thetas: list[Parameter]):\n",
    "    qr1 = QuantumRegister(1, '')\n",
    "    qr2 = QuantumRegister(1, 'emitter 1')\n",
    "    qr3 = QuantumRegister(1, 'emitter 2')\n",
    "    qr4 = QuantumRegister(1, 'emitter 3')\n",
    "    circuit = QuantumCircuit(qr1, qr2, qr3, qr4)\n",
    "    circuit.x(1)\n",
    "\n",
    "    # first emitter is handled oppositely from the others\n",
    "    CRy(circuit, qr2, qr1, thetas[0])  # rotate environment with 1st emitter as control\n",
    "    CNOT(circuit, qr1, qr2)  # CNOT on 1st emitter with environment as control\n",
    "\n",
    "    CRy(circuit, qr1, qr3, thetas[1])  # rotate ith emitter with environment as control\n",
    "    CNOT(circuit, qr3, qr1)  # CNOT on environment with ith emitter as control\n",
    "    CRy(circuit, qr1, qr4, thetas[2])  # rotate ith emitter with environment as control\n",
    "    CNOT(circuit, qr4, qr1)  # CNOT on environment with ith emitter as control\n",
    "    \n",
    "    return circuit"
   ]
  },
  {
   "cell_type": "code",
   "execution_count": 47,
   "metadata": {},
   "outputs": [
    {
     "data": {
      "image/png": "[encoded data removed]",
      "text/plain": [
       "<Figure size 1200x600 with 1 Axes>"
      ]
     },
     "metadata": {},
     "output_type": "display_data"
    }
   ],
   "source": [
    "qr1 = QuantumRegister(1, '')\n",
    "qr2 = QuantumRegister(1, 'emitter 1')\n",
    "qr3 = QuantumRegister(1, 'emitter 2')\n",
    "qr4 = QuantumRegister(1, 'emitter 3')\n",
    "\n",
    "\n",
    "thetas = []\n",
    "\n",
    "theta_1 = Parameter(r'$2\\theta_1$')\n",
    "theta_2 = Parameter(r'2$\\theta_2$')\n",
    "theta_n = Parameter(r'2$\\theta_n$')\n",
    "\n",
    "thetas.append(theta_1)\n",
    "thetas.append(theta_2)\n",
    "thetas.append(theta_n)\n",
    "\n",
    "circuit = qmarina(thetas=thetas)\n",
    "\n",
    "# circuit.measure_all()\n",
    "\n",
    "fig, ax = plt.subplots(figsize=(12, 6))\n",
    "circuit.draw(output=\"mpl\", ax=ax, scale=3)\n",
    "\n",
    "# Qiskit has an issue creating qubit labels that contain linebreaks.\n",
    "# The linebreak renders, but the label is wrapped in ${}$.\n",
    "# As a workaround, we'll just manually insert the label for the\n",
    "# qubit representing the \"cavity and environment\"\n",
    "\n",
    "# ax.text(\n",
    "#     0.2,\n",
    "#     -0.25,\n",
    "#     \"cavity and\\nenvironment\",\n",
    "#     fontsize=10,\n",
    "#     color='black',\n",
    "#     fontstyle='italic',\n",
    "#     horizontalalignment='right',\n",
    "#     zorder=50,\n",
    "#     bbox=dict(facecolor='white', alpha=1, edgecolor='none'),\n",
    "# )\n",
    "\n",
    "# plt.tight_layout()\n",
    "\n",
    "# # there is some excess white margin on the left side of the figure once exported\n",
    "# # let's trim that off\n",
    "# pos = ax.get_position()\n",
    "# new_pos = [pos.x0 - 0.03, pos.y0,  pos.width, pos.height]\n",
    "# ax.set_position(new_pos)"
   ]
  },
  {
   "cell_type": "code",
   "execution_count": null,
   "metadata": {},
   "outputs": [],
   "source": [
    "fig.savefig(\"../figures/QSCOUT_QMARINA_circuit.eps\")"
   ]
  },
  {
   "cell_type": "code",
   "execution_count": null,
   "metadata": {},
   "outputs": [],
   "source": [
    "qr1 = QuantumRegister(1, '')\n",
    "qr2 = QuantumRegister(1, 'emitter 1')\n",
    "qr3 = QuantumRegister(1, 'emitter 2')\n",
    "qr4 = QuantumRegister(1, 'emitter 3')\n",
    "\n",
    "\n",
    "thetas = []\n",
    "\n",
    "theta_1 = Parameter(r'$2\\theta_1$')\n",
    "theta_2 = Parameter(r'2$\\theta_2$')\n",
    "theta_n = Parameter(r'2$\\theta_n$')\n",
    "\n",
    "thetas.append(theta_1)\n",
    "thetas.append(theta_2)\n",
    "thetas.append(theta_n)\n",
    "\n",
    "\n",
    "\n",
    "fig, ax = plt.subplots(figsize=(12, 6))\n",
    "circuit.draw(output=\"mpl\", ax=ax, scale=3)\n",
    "\n",
    "# Qiskit has an issue creating qubit labels that contain linebreaks.\n",
    "# The linebreak renders, but the label is wrapped in ${}$.\n",
    "# As a workaround, we'll just manually insert the label for the\n",
    "# qubit representing the \"cavity and environment\"\n",
    "\n",
    "# ax.text(\n",
    "#     0.2,\n",
    "#     -0.25,\n",
    "#     \"cavity and\\nenvironment\",\n",
    "#     fontsize=10,\n",
    "#     color='black',\n",
    "#     fontstyle='italic',\n",
    "#     horizontalalignment='right',\n",
    "#     zorder=50,\n",
    "#     bbox=dict(facecolor='white', alpha=1, edgecolor='none'),\n",
    "# )\n",
    "\n",
    "# plt.tight_layout()\n",
    "\n",
    "# # there is some excess white margin on the left side of the figure once exported\n",
    "# # let's trim that off\n",
    "# pos = ax.get_position()\n",
    "# new_pos = [pos.x0 - 0.03, pos.y0,  pos.width, pos.height]\n",
    "# ax.set_position(new_pos)"
   ]
  }
 ],
 "metadata": {
  "kernelspec": {
   "display_name": "base",
   "language": "python",
   "name": "python3"
  },
  "language_info": {
   "codemirror_mode": {
    "name": "ipython",
    "version": 3
   },
   "file_extension": ".py",
   "mimetype": "text/x-python",
   "name": "python",
   "nbconvert_exporter": "python",
   "pygments_lexer": "ipython3",
   "version": "3.9.13"
  },
  "orig_nbformat": 4
 },
 "nbformat": 4,
 "nbformat_minor": 2
}
